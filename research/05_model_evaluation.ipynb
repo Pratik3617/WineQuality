{
 "cells": [
  {
   "cell_type": "code",
   "execution_count": 1,
   "id": "520d48c3",
   "metadata": {},
   "outputs": [],
   "source": [
    "import os"
   ]
  },
  {
   "cell_type": "code",
   "execution_count": 2,
   "id": "9b66be1b",
   "metadata": {},
   "outputs": [],
   "source": [
    "os.chdir(\"../\")"
   ]
  },
  {
   "cell_type": "code",
   "execution_count": 3,
   "id": "19c9b52f",
   "metadata": {},
   "outputs": [],
   "source": [
    "os.environ[\"MLFLOW_TRACKING_URI\"]=\"https://dagshub.com/prateek1736/WineQuality.mlflow\"\n",
    "os.environ[\"MLFLOW_TRACKING_USERNAME\"]=\"prateek1736\"\n",
    "os.environ[\"MLFLOW_TRACKING_PASSWORD\"]=\"04553a50d21f8b3844ce19ec04ab041d4aa1ed22\""
   ]
  },
  {
   "cell_type": "code",
   "execution_count": 4,
   "id": "73a74069",
   "metadata": {},
   "outputs": [],
   "source": [
    "from dataclasses import dataclass\n",
    "from pathlib import Path\n",
    "\n",
    "@dataclass(frozen=True)\n",
    "class ModelEvaluationConfig:\n",
    "    root_dir: Path\n",
    "    test_data_path: Path\n",
    "    model_path: Path\n",
    "    all_params: dict\n",
    "    metric_file_name: Path\n",
    "    target_column: str\n",
    "    mlflow_uri: str\n",
    "    "
   ]
  },
  {
   "cell_type": "code",
   "execution_count": 5,
   "id": "4a8abff4",
   "metadata": {},
   "outputs": [],
   "source": [
    "from ML_PROJECT.constants import *\n",
    "from ML_PROJECT.utils.common import create_directories, read_yaml\n",
    "class ConfigurationManager:\n",
    "    def __init__(\n",
    "        self,\n",
    "        config_filepath = CONFIG_FILE_PATH,\n",
    "        params_filepath = PARAMS_FILE_PATH,\n",
    "        schema_filepath = SCHEMA_FILE_PATH):\n",
    "\n",
    "        self.config = read_yaml(config_filepath)\n",
    "        self.params = read_yaml(params_filepath)\n",
    "        self.schema = read_yaml(schema_filepath)\n",
    "\n",
    "        create_directories([self.config.artifacts_root])\n",
    "    \n",
    "    def get_model_evaluation_config(self) -> ModelEvaluationConfig:\n",
    "        config = self.config.model_evaluation\n",
    "        params = self.params.ElasticNet\n",
    "        schema =  self.schema.TARGET_COLUMN\n",
    "\n",
    "        create_directories([config.root_dir])\n",
    "\n",
    "        model_evaluation_config = ModelEvaluationConfig(\n",
    "            root_dir=config.root_dir,\n",
    "            test_data_path=config.test_data_path,\n",
    "            model_path = config.model_path,\n",
    "            all_params=params,\n",
    "            metric_file_name = config.metric_file_name,\n",
    "            target_column = schema.name,\n",
    "            mlflow_uri=\"https://dagshub.com/prateek1736/WineQuality.mlflow\",\n",
    "           \n",
    "        )\n",
    "\n",
    "        return model_evaluation_config"
   ]
  },
  {
   "cell_type": "code",
   "execution_count": 6,
   "id": "c5c4564d",
   "metadata": {},
   "outputs": [],
   "source": [
    "from pathlib import Path\n",
    "import pandas as pd\n",
    "from sklearn.metrics import mean_squared_error, mean_absolute_error, r2_score\n",
    "from urllib.parse import urlparse\n",
    "import mlflow\n",
    "import mlflow.sklearn\n",
    "import numpy as np\n",
    "import joblib\n",
    "from mlflow.models.signature import infer_signature\n",
    "from ML_PROJECT.entity.config_entity import ModelEvaluationConfig\n",
    "from ML_PROJECT.utils.common import save_json\n"
   ]
  },
  {
   "cell_type": "code",
   "execution_count": 7,
   "id": "3ceb9f2f",
   "metadata": {},
   "outputs": [],
   "source": [
    "class ModelEvaluation:\n",
    "    def __init__(self, config: ModelEvaluationConfig):\n",
    "        self.config = config\n",
    "\n",
    "    def eval_metrics(self, actual, pred):\n",
    "        rmse = np.sqrt(mean_squared_error(actual, pred))\n",
    "        mae = mean_absolute_error(actual, pred)\n",
    "        r2 = r2_score(actual, pred)\n",
    "        return rmse, mae, r2\n",
    "\n",
    "    def log_into_mlflow(self):\n",
    "        # Load test data and model\n",
    "        test_data = pd.read_csv(self.config.test_data_path)\n",
    "        model = joblib.load(self.config.model_path)\n",
    "\n",
    "        test_x = test_data.drop([self.config.target_column], axis=1)\n",
    "        test_y = test_data[[self.config.target_column]]\n",
    "\n",
    "        # Prepare MLflow tracking\n",
    "        mlflow.set_registry_uri(self.config.mlflow_uri)\n",
    "        tracking_url_type_store = urlparse(mlflow.get_tracking_uri()).scheme\n",
    "\n",
    "        with mlflow.start_run():\n",
    "            # Predict\n",
    "            predicted_qualities = model.predict(test_x)\n",
    "\n",
    "            # Calculate metrics\n",
    "            rmse, mae, r2 = self.eval_metrics(test_y, predicted_qualities)\n",
    "\n",
    "            # Save metrics locally\n",
    "            scores = {\"rmse\": rmse, \"mae\": mae, \"r2\": r2}\n",
    "            save_json(path=Path(self.config.metric_file_name), data=scores)\n",
    "\n",
    "            # Log parameters and metrics to MLflow\n",
    "            mlflow.log_params(self.config.all_params)\n",
    "            mlflow.log_metric(\"rmse\", rmse)\n",
    "            mlflow.log_metric(\"r2\", r2)\n",
    "            mlflow.log_metric(\"mae\", mae)\n",
    "\n",
    "            # Prepare input example and signature\n",
    "            input_example = test_x.iloc[:1]\n",
    "            signature = infer_signature(test_x, predicted_qualities)\n",
    "\n",
    "            # Log the model with input example and signature\n",
    "            if tracking_url_type_store != \"file\":\n",
    "                mlflow.sklearn.log_model(\n",
    "                    model,\n",
    "                    \"model\",\n",
    "                    registered_model_name=\"ElasticnetModel\",\n",
    "                    input_example=input_example,\n",
    "                    signature=signature\n",
    "                )\n",
    "            else:\n",
    "                mlflow.sklearn.log_model(\n",
    "                    model,\n",
    "                    \"model\",\n",
    "                    input_example=input_example,\n",
    "                    signature=signature\n",
    "                )"
   ]
  },
  {
   "cell_type": "code",
   "execution_count": 8,
   "id": "eaeef91e",
   "metadata": {},
   "outputs": [
    {
     "name": "stdout",
     "output_type": "stream",
     "text": [
      "Tracking URI: https://dagshub.com/prateek1736/WineQuality.mlflow\n",
      "[2025-05-25 06:16:05,352: INFO: common: yaml file: config/config.yaml loaded successfully]\n",
      "[2025-05-25 06:16:05,355: INFO: common: yaml file: params.yaml loaded successfully]\n",
      "[2025-05-25 06:16:05,358: INFO: common: yaml file: schema.yaml loaded successfully]\n",
      "[2025-05-25 06:16:05,359: INFO: common: created directory at: artifacts]\n",
      "[2025-05-25 06:16:05,360: INFO: common: created directory at: artifacts/model_evaluation]\n",
      "[2025-05-25 06:16:06,162: INFO: common: json file saved at: artifacts/model_evaluation/metrics.json]\n"
     ]
    },
    {
     "name": "stderr",
     "output_type": "stream",
     "text": [
      "Registered model 'ElasticnetModel' already exists. Creating a new version of this model...\n",
      "2025/05/25 06:16:17 INFO mlflow.store.model_registry.abstract_store: Waiting up to 300 seconds for model version to finish creation. Model name: ElasticnetModel, version 4\n",
      "Created version '4' of model 'ElasticnetModel'.\n"
     ]
    },
    {
     "name": "stdout",
     "output_type": "stream",
     "text": [
      "🏃 View run delicate-bat-434 at: https://dagshub.com/prateek1736/WineQuality.mlflow/#/experiments/0/runs/b2c5253e4f80481d88175970b3b6ae89\n",
      "🧪 View experiment at: https://dagshub.com/prateek1736/WineQuality.mlflow/#/experiments/0\n"
     ]
    }
   ],
   "source": [
    "import mlflow\n",
    "print(\"Tracking URI:\", mlflow.get_tracking_uri())\n",
    "try:\n",
    "    config = ConfigurationManager()\n",
    "    model_evaluation_config = config.get_model_evaluation_config()\n",
    "    model_evaluation_config = ModelEvaluation(config=model_evaluation_config)\n",
    "    model_evaluation_config.log_into_mlflow()\n",
    "except Exception as e:\n",
    "    raise e"
   ]
  }
 ],
 "metadata": {
  "kernelspec": {
   "display_name": "wine_env",
   "language": "python",
   "name": "python3"
  },
  "language_info": {
   "codemirror_mode": {
    "name": "ipython",
    "version": 3
   },
   "file_extension": ".py",
   "mimetype": "text/x-python",
   "name": "python",
   "nbconvert_exporter": "python",
   "pygments_lexer": "ipython3",
   "version": "3.12.3"
  }
 },
 "nbformat": 4,
 "nbformat_minor": 5
}
